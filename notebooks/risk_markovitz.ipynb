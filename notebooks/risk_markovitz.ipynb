{
 "cells": [
  {
   "cell_type": "code",
   "execution_count": 0,
   "metadata": {
    "application/vnd.databricks.v1+cell": {
     "cellMetadata": {
      "byteLimit": 2048000,
      "rowLimit": 10000
     },
     "inputWidgets": {},
     "nuid": "738d5fe8-cc54-4cc3-9003-2f7762ea61c6",
     "showTitle": false,
     "title": ""
    }
   },
   "outputs": [],
   "source": [
    "import numpy as np\n",
    "import os\n",
    "import sys\n",
    "import plotly.express as px\n",
    "\n",
    "package_path = os.path.join(os.path.dirname(os.getcwd()))\n",
    "sys.path.append(package_path)\n",
    "\n",
    "from src.models.markovitz_bullet import MarkovitzSimulator\n",
    "from src.preprocess_data import preprocess\n",
    "from src.utils.data_utils import *\n",
    "from src.financials.ratio_metrics import RatioMetrics\n",
    "from src.preprocess_data.preprocess import fund_scaler\n",
    "\n",
    "sys.path.append(\"/Workspace/Repos/Libraries\")\n",
    "\n",
    "from Toolbox.src.viz.charter import ardian_charter_graph, ardian_charter_plotly, CORAL, DARK_GREY, STONE, BLUE_GREY, BROWN, PURPLE, FULL_PALETTE\n",
    "FULL_PALETTE = np.array(FULL_PALETTE)\n",
    "\n",
    "%load_ext autoreload\n",
    "%autoreload 2"
   ]
  },
  {
   "cell_type": "code",
   "execution_count": 0,
   "metadata": {
    "application/vnd.databricks.v1+cell": {
     "cellMetadata": {
      "byteLimit": 2048000,
      "rowLimit": 10000
     },
     "inputWidgets": {},
     "nuid": "26cd591c-3517-4825-b199-ac8824e6efd4",
     "showTitle": false,
     "title": ""
    }
   },
   "outputs": [],
   "source": [
    "%run \"/Users/rigaudg@ardian.com/Portfolio value at risk/lake_config\"   "
   ]
  },
  {
   "cell_type": "code",
   "execution_count": 0,
   "metadata": {
    "application/vnd.databricks.v1+cell": {
     "cellMetadata": {
      "byteLimit": 2048000,
      "rowLimit": 10000
     },
     "inputWidgets": {},
     "nuid": "8d0b4a9b-801d-4841-9aff-9986d38e31ce",
     "showTitle": false,
     "title": ""
    }
   },
   "outputs": [],
   "source": [
    "%run \"/Repos/rigaudg@ardian.com/PortfolioValueAtRisk/PortfolioValueAtRisk/ddp_version/00-Workflow config\""
   ]
  },
  {
   "cell_type": "code",
   "execution_count": 0,
   "metadata": {
    "application/vnd.databricks.v1+cell": {
     "cellMetadata": {
      "byteLimit": 2048000,
      "rowLimit": 10000
     },
     "inputWidgets": {},
     "nuid": "472dbbca-3943-4d2f-9f2c-2320ae7e673c",
     "showTitle": false,
     "title": ""
    }
   },
   "outputs": [],
   "source": [
    "file_returns_table = f\"abfss://portfolio-var@{account}.dfs.core.windows.net/output/dashboard/metrics_DDP_database.parquet\"\n",
    "metrics_table = read_lake_data(spark, file_returns_table)\n",
    "\n",
    "file_returns_table = f\"abfss://portfolio-var@{account}.dfs.core.windows.net/output/dashboard/value_at_risk_DDP_database.parquet\"\n",
    "returns_table = read_lake_data(spark, file_returns_table)\n",
    "\n",
    "macro_file = f\"abfss://portfolio-var@{account}.dfs.core.windows.net/processed/{LAST_REPORTING_EXTRACT}/macro_factors.parquet\"\n",
    "macro_dataframe = read_lake_data(spark, macro_file).set_index(\"date\")"
   ]
  },
  {
   "cell_type": "code",
   "execution_count": 0,
   "metadata": {
    "application/vnd.databricks.v1+cell": {
     "cellMetadata": {
      "byteLimit": 2048000,
      "rowLimit": 10000
     },
     "inputWidgets": {},
     "nuid": "61c0e876-76be-4813-b84a-190873db9c1d",
     "showTitle": false,
     "title": ""
    }
   },
   "outputs": [],
   "source": [
    "pred = preprocess.PreprocessData() \n",
    "fund_table = pred.preprocess_delta(metrics_table, returns_table)\n",
    "pe_public_dict, quarterly_public_returns = pred.fund_pe_combiner(fund_table, macro_dataframe) #Return a dictionnary of dataframes (1 per Ardian fund) + a dataframe of public indexes"
   ]
  },
  {
   "cell_type": "code",
   "execution_count": 0,
   "metadata": {
    "application/vnd.databricks.v1+cell": {
     "cellMetadata": {
      "byteLimit": 2048000,
      "rowLimit": 10000
     },
     "inputWidgets": {},
     "nuid": "65f0bddc-0c54-451b-ba2a-79e097429b96",
     "showTitle": false,
     "title": ""
    }
   },
   "outputs": [],
   "source": [
    "return_df = metrics_table.loc[lambda x : x.level == 'asset', :\"return\"].drop(columns = [\"level\", \"portfolioName\"]).drop_duplicates(subset = [\"quarterDate\", \"entity\"])\n",
    "return_df = pd.pivot(return_df, columns = \"entity\", index =  \"quarterDate\")\n",
    "\n",
    "assets = [(m, s, \"asset\") for m, s in zip(np.mean(return_df, axis = 0).values, np.std(return_df, axis = 0).values)]\n",
    "funds = [(np.mean(pe_public_dict.get(k)[\"return\"].values / 100), np.std(pe_public_dict.get(k)[\"return\"].values / 100), \"fund\") for k in pe_public_dict.keys()]\n",
    "full_risk_list = assets + funds\n",
    "\n",
    "full_risk_df = pd.DataFrame(full_risk_list, columns = [\"mean\", \"std\", \"ticker\"])\n",
    "full_risk_df[\"entity\"] = return_df.columns.get_level_values(1).to_list() + list(pe_public_dict.keys())\n",
    "\n",
    "fig  = px.scatter(full_risk_df, \"std\", \"mean\", color = \"ticker\", hover_name=\"entity\")\n",
    "ardian_charter_plotly(fig)\n"
   ]
  },
  {
   "cell_type": "code",
   "execution_count": 0,
   "metadata": {
    "application/vnd.databricks.v1+cell": {
     "cellMetadata": {
      "byteLimit": 2048000,
      "rowLimit": 10000
     },
     "inputWidgets": {},
     "nuid": "72d8208e-607a-498d-a126-837c64d37f8d",
     "showTitle": false,
     "title": ""
    }
   },
   "outputs": [],
   "source": [
    "fund_df = pd.concat(pe_public_dict).reset_index().iloc[:, 1:4]\n",
    "fund_df = pd.pivot(fund_df, \"quarterDate\", \"entity\", \"return\").iloc[:,:-1]\n",
    "fund_df.head() \n",
    "\n",
    "asset_df = metrics_table.loc[lambda x : x.level == \"asset\"].drop_duplicates([\"quarterDate\", \"entity\"])\n",
    "asset_df = pd.pivot(asset_df, \"quarterDate\", \"entity\", \"return\")\n",
    "asset_arr = asset_df.values\n",
    "\n",
    "fig = px.scatter(y = np.nanmean(asset_arr, axis = 0),  x = np.nanstd(asset_arr, axis = 0), color = 2 * np.nanmean(asset_arr, axis = 0) / np.nanstd(asset_arr, axis = 0))\n",
    "fig"
   ]
  },
  {
   "cell_type": "code",
   "execution_count": 0,
   "metadata": {
    "application/vnd.databricks.v1+cell": {
     "cellMetadata": {
      "byteLimit": 2048000,
      "rowLimit": 10000
     },
     "inputWidgets": {},
     "nuid": "e5e0f017-1863-4a08-97e0-7d2e728f7475",
     "showTitle": false,
     "title": ""
    }
   },
   "outputs": [],
   "source": [
    "MarkovitzSimulator(asset_arr, periods = 4).make_random_portfolios(1000).compute_sharpe_ratios().plot()"
   ]
  },
  {
   "cell_type": "code",
   "execution_count": 0,
   "metadata": {
    "application/vnd.databricks.v1+cell": {
     "cellMetadata": {
      "byteLimit": 2048000,
      "rowLimit": 10000
     },
     "inputWidgets": {},
     "nuid": "59c50bb0-82c2-4ae1-8bb4-9a3eceb602e6",
     "showTitle": false,
     "title": ""
    }
   },
   "outputs": [],
   "source": [
    "res = [MarkovitzSimulator(asset_arr[:,i], periods = 4).make_random_portfolios(1).compute_sharpe_ratios() for i in range(asset_arr.shape[1])]\n",
    "simulations = [(val.simulations[0][0], val.simulations[1][0]) for val in res]\n",
    "sharpe_ratios = [val.sharpe_ratio[0] for val in res]\n",
    "simulations = pd.DataFrame(simulations, columns= [\"mu\", \"sigma\"]).assign(sharpe_ratio = sharpe_ratios, \n",
    "                                                                        entity = asset_df.columns.to_list(),\n",
    "                                                                        ticker = \"asset\")\n",
    "\n",
    "funds = [(np.mean(pe_public_dict.get(k)[\"return\"].values / 100), np.std(pe_public_dict.get(k)[\"return\"].values / 100), k) for k in pe_public_dict.keys()]\n",
    "funds = pd.DataFrame(funds, columns = [\"mu\", \"sigma\", \"entity\"]).assign(sharpe_ratio = lambda x : x[\"mu\"] / x['sigma'], ticker = \"fund\")\n",
    "\n",
    "simulations = pd.concat([simulations, funds])\n",
    "simulations.iloc[:, :2] = simulations.iloc[:, :2] * 100\n",
    "\n",
    "fig  = px.scatter(simulations, \"sigma\", \"mu\", title=\"Markovitz plot\", hover_name=\"entity\", color = \"ticker\", symbol = \"ticker\")\n",
    "ardian_charter_plotly(fig)"
   ]
  }
 ],
 "metadata": {
  "application/vnd.databricks.v1+notebook": {
   "dashboards": [],
   "language": "python",
   "notebookMetadata": {
    "pythonIndentUnit": 4
   },
   "notebookName": "risk_markovitz",
   "widgets": {}
  },
  "kernelspec": {
   "display_name": "Python 3",
   "language": "python",
   "name": "python3"
  },
  "language_info": {
   "codemirror_mode": {
    "name": "ipython",
    "version": 3
   },
   "file_extension": ".py",
   "mimetype": "text/x-python",
   "name": "python",
   "nbconvert_exporter": "python",
   "pygments_lexer": "ipython3",
   "version": "3.11.4"
  }
 },
 "nbformat": 4,
 "nbformat_minor": 0
}
